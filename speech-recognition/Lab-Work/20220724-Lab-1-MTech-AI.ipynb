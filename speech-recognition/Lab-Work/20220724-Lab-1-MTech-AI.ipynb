{
  "nbformat": 4,
  "nbformat_minor": 0,
  "metadata": {
    "colab": {
      "name": "20220724-Lab-1-MTech-AI",
      "provenance": [],
      "collapsed_sections": [],
      "authorship_tag": "ABX9TyPh852jHrjGFR+D3bPxICwa",
      "include_colab_link": true
    },
    "kernelspec": {
      "name": "python3",
      "display_name": "Python 3"
    },
    "language_info": {
      "name": "python"
    }
  },
  "cells": [
    {
      "cell_type": "markdown",
      "metadata": {
        "id": "view-in-github",
        "colab_type": "text"
      },
      "source": [
        "<a href=\"https://colab.research.google.com/github/bilalProgTech/mtech-nmims/blob/master/speech-recognition/Lab-Work/20220724-Lab-1-MTech-AI.ipynb\" target=\"_parent\"><img src=\"https://colab.research.google.com/assets/colab-badge.svg\" alt=\"Open In Colab\"/></a>"
      ]
    },
    {
      "cell_type": "markdown",
      "source": [
        "# Analysis of Audio files"
      ],
      "metadata": {
        "id": "voz0JseIPIz_"
      }
    },
    {
      "cell_type": "code",
      "source": [
        "!pip install librosa"
      ],
      "metadata": {
        "id": "1UwmF4Q5MEbZ"
      },
      "execution_count": null,
      "outputs": []
    },
    {
      "cell_type": "code",
      "execution_count": null,
      "metadata": {
        "id": "g_iOh3cHL35B"
      },
      "outputs": [],
      "source": [
        "import librosa\n",
        "audio_path = \"sample_audio.wav\"\n",
        "x , sr = librosa.load(audio_path)"
      ]
    },
    {
      "cell_type": "code",
      "source": [
        "import IPython.display as ipd\n",
        "ipd.Audio(audio_path)"
      ],
      "metadata": {
        "id": "G5fo_QU4L7-g"
      },
      "execution_count": null,
      "outputs": []
    },
    {
      "cell_type": "code",
      "source": [
        "import matplotlib.pyplot as plt\n",
        "import librosa.display"
      ],
      "metadata": {
        "id": "HquhhJP1M2yf"
      },
      "execution_count": null,
      "outputs": []
    },
    {
      "cell_type": "code",
      "source": [
        "plt.figure(figsize=(14, 5))\n",
        "librosa.display.waveplot(x, sr=sr)"
      ],
      "metadata": {
        "id": "yaCpTnd8NAC4"
      },
      "execution_count": null,
      "outputs": []
    },
    {
      "cell_type": "code",
      "source": [
        "X = librosa.stft(x)\n",
        "Xdb = librosa.amplitude_to_db(abs(X))"
      ],
      "metadata": {
        "id": "g-lAiLrINA2F"
      },
      "execution_count": null,
      "outputs": []
    },
    {
      "cell_type": "code",
      "source": [
        "plt.figure(figsize=(14, 5))\n",
        "librosa.display.specshow(Xdb, sr=sr, x_axis='time', y_axis='hz')\n",
        "plt.colorbar()"
      ],
      "metadata": {
        "id": "K1x8EFsmNG0m"
      },
      "execution_count": null,
      "outputs": []
    },
    {
      "cell_type": "code",
      "source": [
        "#librosa.output.write_wav('example.wav', x, sr)"
      ],
      "metadata": {
        "id": "L4v3o2ssOULu"
      },
      "execution_count": null,
      "outputs": []
    },
    {
      "cell_type": "markdown",
      "source": [
        "# Digitization and Recording of Speech"
      ],
      "metadata": {
        "id": "CDABO_y9PDrV"
      }
    },
    {
      "cell_type": "code",
      "source": [
        "!pip install SpeechRecognition"
      ],
      "metadata": {
        "id": "KLor-uoeNKWV"
      },
      "execution_count": null,
      "outputs": []
    },
    {
      "cell_type": "code",
      "source": [
        "import speech_recognition as sr"
      ],
      "metadata": {
        "id": "zMWiLoRVNeCY"
      },
      "execution_count": null,
      "outputs": []
    },
    {
      "cell_type": "code",
      "source": [
        "r = sr.Recognizer()"
      ],
      "metadata": {
        "id": "zj99eXJLNoD2"
      },
      "execution_count": null,
      "outputs": []
    },
    {
      "cell_type": "code",
      "source": [
        "sample_audio = sr.AudioFile('sample_audio.wav')\n",
        "with sample_audio as source:\n",
        "    audio = r.record(source) #duration"
      ],
      "metadata": {
        "id": "qY5JxT1ZNrXm"
      },
      "execution_count": null,
      "outputs": []
    },
    {
      "cell_type": "code",
      "source": [
        "r.recognize_google(audio)"
      ],
      "metadata": {
        "id": "waiORsI0Nw6G"
      },
      "execution_count": null,
      "outputs": []
    },
    {
      "cell_type": "markdown",
      "source": [
        "# Human Speech Production"
      ],
      "metadata": {
        "id": "1YLEVkziO_Pn"
      }
    },
    {
      "cell_type": "code",
      "source": [
        "!pip install gTTS"
      ],
      "metadata": {
        "id": "KtSbnfiROcXu"
      },
      "execution_count": null,
      "outputs": []
    },
    {
      "cell_type": "code",
      "source": [
        "from gtts import gTTS\n",
        "import os"
      ],
      "metadata": {
        "id": "PmCkkKWpN_g-"
      },
      "execution_count": null,
      "outputs": []
    },
    {
      "cell_type": "code",
      "source": [
        "text = 'Hello my name is Bilal Hungund and I am data scientist at Halliburton'\n",
        "language='en'"
      ],
      "metadata": {
        "id": "2TU7UqUkOa3v"
      },
      "execution_count": null,
      "outputs": []
    },
    {
      "cell_type": "code",
      "source": [
        "gtts_object = gTTS(text=text,lang=language,slow=False)"
      ],
      "metadata": {
        "id": "Rx7z_zPAOpy2"
      },
      "execution_count": null,
      "outputs": []
    },
    {
      "cell_type": "code",
      "source": [
        "gtts_object.save(\"hello.mp3\")"
      ],
      "metadata": {
        "id": "kRsyJOYDOuMl"
      },
      "execution_count": null,
      "outputs": []
    },
    {
      "cell_type": "code",
      "source": [
        "ipd.Audio('hello.mp3')"
      ],
      "metadata": {
        "id": "56z1-vjaOzrG"
      },
      "execution_count": null,
      "outputs": []
    }
  ]
}